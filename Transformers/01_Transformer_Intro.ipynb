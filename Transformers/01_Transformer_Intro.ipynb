{
 "cells": [
  {
   "cell_type": "markdown",
   "metadata": {},
   "source": [
    "# Überblick über Transformer und das Huggingface-Repository 🤗 "
   ]
  },
  {
   "cell_type": "markdown",
   "metadata": {},
   "source": [
    "## Transformer Allgemein\n",
    "\n",
    "Während es Sprachmodelle auf der Basis rekurrenter neuronaler Netze im Prinzip schon seit Jahrzehnten gibt (das [LSTM-Paper](https://direct.mit.edu/neco/article/9/8/1735/6109/Long-Short-Term-Memory) ist von 1997), wurden Transformerarchitekturen, die auf einem sogenannten \"Attention\"-Mechanismen beruhen, erst 2017 vorgestellt. Das erste Paper trug den bezeichnenden Namen [\"Attention is all you need\"](https://arxiv.org/abs/1706.03762).  Während andere Architekturen, wie Convolutional Neural Nets oder Recurrent Neural Nets, sehr eingängig sind und auch parallelen zu tatsächlichen neuronalen Netzwerken im visuellen Cortex oder Präfrontalcortex aufweisen, muss man für Transformer etwas umdenken.  Einen sehr guten ersten Überblick gibt das folgende, fünfminütige [Video](https://www.youtube.com/watch?v=KN3ZL65Dze0). Eine der besten Einführungen in die Details der Transformerarchitektur bietet der folgende [Blogpost](http://jalammar.github.io/illustrated-transformer/).\n",
    "\n",
    "## Pre-Training und Transfer-Learning\n",
    "\n",
    "Neben der neuen Transformerarchitektur war der zweite große Meilenstein, der zu dem enormen Erfolg der Transformer in der Sprachmodellierung und Textverarbeitung geführt hat, der Einsatz von bestimmten so genannten \"Pre-Training Tasks\". Diese Aufgaben lassen ein Transformernetzwerk zunächst die statistische Struktur eines großen Datensatzes, z.B. englischer Texte, lernen. Ein klassisches Beispiel für solch eine Aufgabe für rekurrente neuronale Netzwerke wäre z.B. die Vorhersage des nächsten Zeichens oder Wortes in einer gegebenen Textsequenz. Solche - auch als \"self-supervised tasks\" bezeichneten - Aufgaben benötigen nur relativ leicht verfügbare Trainingsdaten, da sie ohne arbeitsaufwändige Annotationen durch Expertinnen auskommen. Das Ziel dieses Pretrainings ist es nicht, dass das Netzwerk direkt auf eine einzelne, spezifische Aufgabe, z.B. Textklassifikation, Übersetzung, ... trainiert wird, sondern dass das Netzwerk in seinen tieferen Schichten sinnvolle Repräsentationen lernt, die man später für viele verschiedene Aufgaben einsetzen kann. Die so vortrainierten Netzwerke kann man dann später auf deutlich kleineren, anwendungs- und aufgabenspezifischen Datensäten nachtrainieren (\"fine-tunen\"). Dies wird als \"Transfer-Learning\" bezeichnet und senkt die Kosten, die eine einzelne Anwenderin aufbringen muss, um mit solchen Modellen zu arbeiten, drastisch. Denn das initiale Training eines großen Sprachmodelles (oft mit mehreren hundert Millionen Parametern) auf großen Textcorpora (meiste mehrere Millionen Worte) verschlingt [gigantische Rechen-(und damit natürlich auch Energie-, Zeit- und Geld-)ressourcen](https://arxiv.org/pdf/2004.08900.pdf). Im Gegensatz dazu benötigt das Nachtrainieren für spezifische Aufgaben meist nur wesentlich kleinere - dafür aber annotierte - Datensätze und kann meist auf einzelnen Workstations innerhalb weniger Stunden bis Tage durchgeführt werden.\n",
    "\n",
    "## BERT\n",
    "\n",
    "Ein sehr erfolgreiches Beispiel eines so vortrainierten Transformernetzwerkes ist [BERT](https://ai.googleblog.com/2018/11/open-sourcing-bert-state-of-art-pre.html). Während frühere Transformerarchitekturen noch End-to-End auf spezifische Anwendungen trainiert wurden, wurde hier zum ersten mal mit einer sehr erfolgreichen Kombination aus zwei Pre-Training-Tasks gearbeitet, mit dem Ziel eine abstrakte Repräsentation der Texte zu lernen, auf deren Grundlage man verschiedenste Aufgaben lösen kann. Bei der ersten Aufgabe handelt es sich um die \"Masked-Language-Modelling\" Task. Das klingt kompliziert, aber im Prinzip werden dem Netzwerk lediglich längere Textabschnitte präsentiert, bei denen ein bestimmter Anzahl an Tokens (Textbausteine, je nach Modell können das einzelne Worte, Wortteile oder Buchstaben sein) durch Lücken (\"Blanks\") ersetzt wurden, genauso wie früher bei den Lückentexten in der Schule. Ziel des Netzwerkes war es, eine Wahrscheinlichkeitsverteilung zu lernen, die möglichst gut die entfernten Tokens vorhersagt. Diese Task wurde mit einer zweiten Pretraining-Task kombiniert, bei der das Netzwerk zwei Sätze präsentiert wurden und es entscheiden musste, ob es sich dabei um zwei unabhängig voneinander aus dem Trainingskorpus gezogene Sätze, oder zwei aufeinanderfolgende Sätze aus den Trainingscorpus handelt. Die Idee war, das Netzwerk so auch längere Abhängigkeiten über einzelne Sätze hinweg lernen musste, um diese Aufgabe lösen zu können. Wenn man nun eine konkrete Aufgabe mittels solcher Transformernetze lösen möchte, startet man nicht mehr bei Null, sondern kann sich für viele Sprachen z.B. ein vortrainiertes BERT-Modell herunterladen. Für einen guten Überblick über BERT im speziellen, sehen sie sich das folgende fünfminütige [Video](https://www.youtube.com/watch?v=zMxvS7hD-Ug) an. Eine detaillierte Einführung in Bert gibt dieser [Blogpost](http://jalammar.github.io/illustrated-bert/). Ein konkretes Beispiel, mit dem wir in den nächsten Notebooks arbeiten werden, ist ein [deutsches, sogar bereits auf einer deutschen Frage-Antwort-Aufgabe __nachtrainiertes__ BERT-Netzwerk](https://huggingface.co/Sahajtomar/GBERTQnA). Dieses wurde zunächst auf einem großen deutschen Textkorpus vortrainiert. Dieser umfasste ca. 163GB Texte aus der deutschen Wikipedia, weiteren Internetquellen, aber auch Bücher, Filmuntertitel oder juristische Fachtexte. Die Kosten des Trainings werden nicht angegeben, sollten sich aber mindestens im vierstelligen Bereich bewegen. Dieses [noch aufgabenunabhängige Netzwerk](https://huggingface.co/deepset/gbert-large) wurde von den Entwicklern, einer Kollaboration von deepset.ai und der Bayerischen Staatsbibliothek München, über das Huggingface-Repository (s.u.) frei zur Verfügung gestellt.  Von dort wurde es heruntergeladen und auf einem Frage-Antwort-Datensatz nachtrainiert, der lediglich 5000 Trainingsbeispiele enthielt (je ein Tripel aus 1. einem Informationstext, 2. einer Frage, die anhand dieses Textes beantwortet werden soll, und 3. möglichen korrekten Antworten), und wiederum vom Entwickler, Sahaj Tomar, [frei zur Verfügung gestellt](https://huggingface.co/Sahajtomar/GBERTQnA). Auch hier wurden die Trainingskosten nicht beziffert, aber es ist nicht unrealistisch, so ein finetuning auf einer lokalen Workstation für einige bis einige hundert Euro durchzuführen.\n",
    "\n",
    "## Das Huggingface Repository\n",
    "\n",
    "In der Praxis der Sprachverarbeitung mit tiefen neuronalen Netzen spielt momentan das Huggingface-Repository eine große Rolle. Dieses Repository stellt über das Python-Paket __transformers__ verschiedenste Transformerarchitekturen, die auf verschiedensten Datensätzen __vor-__ und zum Teil auch bereits auf konkrete Aufgaben __nachtrainiert__ wurden, sehr einfach zur Verfügung. Für einige, konkrete Anwendungen gibt es sogar bereits vorgefertigte __pipelines__. Diese Pipelines basieren auf Netzwerken, die bereits auf konkreten Aufgaben nachtrainiert wurden und __kapseln__ diese in einfach zu benutzende Funktionen, so dass sich die Anwenderin gar keine Gedanken mehr darüber machen muss, welche Netzwerkarchitektur eigentlich genau im Hintergrund arbeitet, und wie die Inputs und Outputs für das Netzwerk eventuell vor- bzw. nachverarbeitet werden müssen. Einige dieser Pipelines wollen wir uns in diesem Notebook ansehen. "
   ]
  },
  {
   "cell_type": "markdown",
   "metadata": {},
   "source": [
    "# Verschiedene häufige Anwendungen von Transformermodellen\n",
    "\n",
    "Im folgenden werden wir ihnen einige Anwendungsbeispiele zeigen, die die Vielfalt der momentan relativ einfach verfügbaren und einsetzbaren transformerbasierten Sprachmodelle zeigen. Einen großen Anteil an dieser \"Einfachheit\" hat das Huggingface (🤗) Repository, das eine Vielzahl von vortrainierten Transformernetzwerken, Datensätzen, sowie Funktionen zum einfachen Nachtrainieren oder Integrieren von Transformernetzwerken in eigene Projekte anbietet. Im folgenden werden wir eine kleine Tour durch die verschiedenen \"Pipelines\" von Huggingface machen, die \"off-the-shelf\"-Funktionalität für verschiedene Aufgaben in Python bereitstellen. Für weitergehende Informationen verweisen wir auf die [entsprechende Seite des Huggingface Repositories](https://huggingface.co/transformers/v3.0.2/task_summary.html).\n",
    "\n",
    "## Aufgabe\n",
    "\n",
    "- __Lesen sie die kurzen Einführungstexte für jede Pipeline, führen sie dann die dazugehörige Codezelle(n) aus und achten sie auf die Input- und Outputtexte.__\n",
    "- __Modifizieren__ sie die Inputtexte, die die Pipeline erhält, in den entsprechenden Zellen\n",
    "- Benutzen sie das __Miro-Board, welches in den geteilten Notizen im Hauptraum verlinkt ist__. __Notieren__ sie darin __Inputtexte__ und die entsprechenden __Netzwerk-Outputs__, bei denen die einzelnen Pipelines out-of-the-box:\n",
    "    - __Erstaunlich oder beeindruckend gut__ funktioniert.\n",
    "    - __Überraschend schlecht__ funktioniert.\n",
    "    - Oder Beispiele, bei denen sie den Output des Netzwerkes auf andere Weise __bemerkenswert oder witzig__ finden.\n",
    "- Sammeln sie in dem __Miro-Board__ für die einzelnen Beispiele (ihre eigenen aber auch gerne für die ihrer Kommiliton*innen) __Ideen zu den folgenden Themen__:\n",
    "    - __Woran__ die entsprechende Performance des Netzwerks liegen könnte.\n",
    "    - Auf __welcher Art von Daten__ man eventuell __nachtrainieren__ könnte, um die schlechte Performance auf Negativbeispielen zu Verbessern.\n",
    "    - Wie man die __Performance__ eventuell __verbessern__ könnte, in dem man um die Transformer-Pipeline herum zusätzlichen Code schreibt, der die __Netzwerk In- und Outputs vor bzw. nachverarbeitet__."
   ]
  },
  {
   "cell_type": "markdown",
   "metadata": {},
   "source": [
    "## Text Generation\n",
    "\n",
    "### So einfach ist es mit 🤗 Transformers, einen längeren Text generieren zu lassen\n",
    "\n",
    "Wundern sie sich beim ausführen der folgenden Codezellen nicht über die Ladebalken. Sobald sie eine Pipeline zum ersten mal aufrufen, wird zunächst das entsprechende vortrainierte Modell einmal vom Huggingface-Repository heruntergeladen. \n",
    "\n",
    "<div class=\"alert alert-block alert-danger\">\n",
    "<span style=\"color:black\"><b>Hinweis:</b> Ignorieren sie im folgenden die (so wie diese Box) rot hinterlegten Warnhinweise. Diese werden von der Pipeline automatisch generiert und dienen Entwicklern lediglich zur Fehlersuche.</span>\n",
    "</div>\n"
   ]
  },
  {
   "cell_type": "code",
   "execution_count": null,
   "metadata": {},
   "outputs": [],
   "source": [
    "# Importiere das \"Pipeline\"-Modul der Huggingface \"transformers\" Bibliothek\n",
    "from transformers import pipeline\n",
    "\n",
    "# Erstelle einen \"Textgenerator\"\n",
    "text_generator = pipeline(\"text-generation\")\n",
    "\n",
    "# Gibt einen Starttext vor (dreifache Anführungszeichen erlauben es, \n",
    "# Zeichenketten über mehrere Zeilen zu definieren)\n",
    "prompt = \"\"\"When Abraham Lincoln rose from his grave again during the 2025 Zombie apocalypse, he was very shocked to find out, that \"\"\"\n",
    "\n",
    "# Starte ein vortrainiertex Textmodell und generiere eine vorgegebene Anzahl \n",
    "# an \"Tokens\" (Textbausteine, das können je nach Modell Wörter, \n",
    "# Wortteile oder Buchstaben sein. Darüber lernen sie im\n",
    "# nächsten Notebook genaueres)\n",
    "generate_length = 200\n",
    "output = text_generator(prompt, max_length=generate_length)\n",
    "\n",
    "# Gibt generierten Text aus\n",
    "print(output[0]['generated_text'])"
   ]
  },
  {
   "cell_type": "markdown",
   "metadata": {},
   "source": [
    "## Masked Language Modelling (a.k.a. \"Fill-the-Blank\")\n",
    "\n",
    "Mit der 🤗 Transformers __fill-mask__ Pipeline ist es möglich, eine Zeichenkette mit __einer__ Lücke vorzugeben, die von einem vortrainierten englischen Sprachmodell geschlossen wird.\n",
    "\n",
    "Dazu muss man die Lücke innerhalb einer durch __f\"__ und __\"__ eingerahmten, vorgegebenen Zeichenfolge durch __{nlp.tokenizer.mask_token}__ kenntlich machen. Mit den Standardeinstellungen werden dann die fünf komplettierten Zeichenketten ausgegeben, die das trainierte Sprachmodell für am wahrscheinlichsten hält. Zudem erhält man für jede komplettierte Zeichenkette einen \"Score\", der beziffert, für wie wahrscheinlich das trainierte Sprachmodell die entsprechende Vervollständigung hält (höher bedeutet wahrscheinlicher). Im Prinzip ist es diese Task, die auch für das Pre-Training von BERT-Modellen Verwendung findet."
   ]
  },
  {
   "cell_type": "code",
   "execution_count": null,
   "metadata": {},
   "outputs": [],
   "source": [
    "from transformers import pipeline\n",
    "\n",
    "nlp = pipeline(\"fill-mask\")\n",
    "\n",
    "# Der Input muss mit f\" beginnen und mit \" enden und\n",
    "# eine \"Lücke\" enthalten, die durch {nlp.tokenizer.mask_token} markiert wird.\n",
    "masked_string = f\"Marsians looked very {nlp.tokenizer.mask_token}, when they found out that Elon Musk was going to move to their home.\"\n",
    "\n",
    "output = nlp(masked_string)\n",
    "\n",
    "# Mit den Standardeinstellungen werden 5 vorschläge mit einem jeweiligen Score für ihre \n",
    "# Wahrscheinlichkeit generiert\n",
    "\n",
    "for i in range(len(output)):\n",
    "    print('Output Nr:')\n",
    "    print(i)\n",
    "    print('Text:')\n",
    "    print(output[i]['sequence'])\n",
    "    print('Score:')\n",
    "    print(output[i]['score'])\n",
    "    print()"
   ]
  },
  {
   "cell_type": "markdown",
   "metadata": {},
   "source": [
    "## Summarization\n",
    "\n",
    "Die Summarization-Pipeline erlaubt es, __Zusammenfassungen__ vorgegebener Texte zu erzeugen. Man gibt lediglich eine Zeichenkette vor, die den Text enthält, der zusammengefasst werden soll. Dabei erlauben es die dreifachen Anführungszeichen __\"\"\" ... \"\"\"__ auch Zeichenketten über mehrere Zeilen zu definieren. Des weiteren kann man noch die minimale und maximale Länge der Zusammenfassung in Tokens (Worte, Wortteile oder Buchstaben, je nach Modell) vorgeben. Als Output enthält man eine Zeichenkette, die eine Zusammenfassung des Inputtextes enthält."
   ]
  },
  {
   "cell_type": "code",
   "execution_count": null,
   "metadata": {},
   "outputs": [],
   "source": [
    "from transformers import pipeline\n",
    "\n",
    "summarizer = pipeline(\"summarization\")\n",
    "\n",
    "ARTICLE = \"\"\" Alan Mathison Turing OBE FRS (/ˈtjʊərɪŋ/; 23 June 1912 – 7 June 1954) was \n",
    "an English mathematician, computer scientist, logician, cryptanalyst, philosopher, \n",
    "and theoretical biologist.[6][7] Turing was highly influential in the development \n",
    "of theoretical computer science, providing a formalisation of the concepts of algorithm \n",
    "and computation with the Turing machine, which can be considered a model of a \n",
    "general-purpose computer.[8][9][10] Turing is widely considered to be the father \n",
    "of theoretical computer science and artificial intelligence.[11]\n",
    "Born in Maida Vale, London, Turing was raised in southern England. He graduated at \n",
    "King's College, Cambridge with a degree in mathematics. Whilst he was a fellow at \n",
    "Cambridge, he published a proof demonstrating that some purely mathematical yes–no \n",
    "questions can never be answered by computation and defined a Turing machine, and \n",
    "went on to prove the halting problem for Turing machines is undecidable. In 1938, \n",
    "he obtained his PhD from the Department of Mathematics at Princeton University. \n",
    "During the Second World War, Turing worked for the Government Code and Cypher \n",
    "School (GC&CS) at Bletchley Park, Britain's codebreaking centre that produced \n",
    "Ultra intelligence. For a time he led Hut 8, the section that was responsible \n",
    "for German naval cryptanalysis. Here, he devised a number of techniques for \n",
    "speeding the breaking of German ciphers, including improvements to the pre-war \n",
    "Polish bombe method, an electromechanical machine that could find settings for \n",
    "the Enigma machine. Turing played a crucial role in cracking intercepted coded \n",
    "messages that enabled the Allies to defeat the Nazis in many crucial engagements, \n",
    "including the Battle of the Atlantic.[12][13] Due to the problems of counterfactual \n",
    "history, it is hard to estimate the precise effect Ultra intelligence had on the war,\n",
    "[14] but Professor Jack Copeland has estimated that this work shortened the war \n",
    "in Europe by more than two years and saved over 14 million lives.[12]\n",
    "After the war, Turing worked at the National Physical Laboratory, where he designed \n",
    "the Automatic Computing Engine. The Automatic Computing Engine was one of the first \n",
    "designs for a stored-program computer. In 1948, Turing joined Max Newman's Computing \n",
    "Machine Laboratory, at the Victoria University of Manchester, where he helped develop \n",
    "the Manchester computers[15] and became interested in mathematical biology. He wrote \n",
    "a paper on the chemical basis of morphogenesis[1] and predicted oscillating chemical \n",
    "reactions such as the Belousov–Zhabotinsky reaction, first observed in the 1960s. \n",
    "Turing was prosecuted in 1952 for homosexual acts; the Labouchere Amendment of 1885 \n",
    "had mandated that \"gross indecency\" was a criminal offence in the UK. He accepted \n",
    "chemical castration treatment, with DES, as an alternative to prison. Turing died \n",
    "in 1954, 16 days before his 42nd birthday, from cyanide poisoning. An inquest \n",
    "determined his death as a suicide, but it has been noted that the known evidence \n",
    "is also consistent with accidental poisoning.\n",
    "Despite these accomplishments, he was never fully recognised in his home country \n",
    "during his lifetime because much of his work was covered by the Official Secrets \n",
    "Act. In 2009, following an Internet campaign, British Prime Minister Gordon \n",
    "Brown made an official public apology on behalf of the British government for \n",
    "\"the appalling way he was treated\". Queen Elizabeth II granted Turing a posthumous \n",
    "pardon in 2013. The \"Alan Turing law\" is now an informal term for a 2017 law \n",
    "in the United Kingdom that retroactively pardoned men cautioned or convicted \n",
    "under historical legislation that outlawed homosexual acts.[16] Turing has an \n",
    "extensive legacy with statues of him, many things named after him including an \n",
    "annual award for computer science innovations. He is due to appear on the Bank \n",
    "of England £50 note, to be released in June 2021. A 2019 BBC series, as voted by \n",
    "the audience, named him the greatest person of the 20th century.\"\"\"\n",
    "\n",
    "# maximale Länge der Zusammenfassung\n",
    "max_length = 130\n",
    "\n",
    "# minimale Länge der Zusammenfassung\n",
    "min_length = 30\n",
    "\n",
    "output = summarizer(ARTICLE, max_length=max_length, min_length=min_length)\n",
    "\n",
    "print(output[0]['summary_text'])"
   ]
  },
  {
   "cell_type": "markdown",
   "metadata": {},
   "source": [
    "## Translation\n",
    "\n",
    "Die __translation_en_to_de__ Pipeline erlaubt es, ihrem Namen entsprechend, englische Inputtexte in deutsche Outputtexte zu übersetzen. Es gibt auch weitere Sprachkombinationen (__translation_en_to_fr__, __translation_en_to_ro__), mit denen sie neben der Veränderung des Inputtextes experimentieren können.\n",
    "\n",
    "__Beachten__ sie, dass nur einzelne Sätze übersetzt werden, d.h. dass die Inputzeichenkette nur bis zum ersten __Punkt \".\"__ verarbeitet wird."
   ]
  },
  {
   "cell_type": "code",
   "execution_count": null,
   "metadata": {},
   "outputs": [],
   "source": [
    "from transformers import pipeline\n",
    "\n",
    "translator = pipeline(\"translation_en_to_de\")\n",
    "\n",
    "english = \"\"\"The Turing test, originally called the imitation game by Alan Turing in 1950,[2] is a test \n",
    "of a machine's ability to exhibit intelligent behaviour equivalent to, or indistinguishable from, that \n",
    "of a human; to this end, Turing proposed that a human evaluator would judge natural language conversations between a \n",
    "human and a machine.\"\"\"\n",
    "\n",
    "output = translator(english)\n",
    "\n",
    "print('Englischer Text:')\n",
    "print(english)\n",
    "print('')\n",
    "\n",
    "print('Deutsche Übersetzung:')\n",
    "print(output[0]['translation_text'])"
   ]
  },
  {
   "cell_type": "markdown",
   "metadata": {},
   "source": [
    "## Extractive Question Answering (oft verkürzt nur als Question Answering (QA) bezeichnet)\n",
    "\n",
    "In dieser Aufgabe, mit der wir uns auch in den weiteren Notebooks des Workshops beschäftigen werden, geht es darum, eine Frage anhand eines bereitgestellten Textes zu beantworten. Dabei ist es die Aufgabe des Netzwerkes, die mögliche Antwort auf die Frage innerhalb des sogenannten \"Kontexts\" zu finden und auszuschneiden (bzw. mit virtuellem Textmarker anzustreichen). D.h. die Ausgabe des Netzwerks besteht aus der wahrscheinlichsten Position einer möglichen Antwort auf die gegebene Frage innerhalb des gegebenen Kontexts. Deshalb wird dieser Aufgabentyp auch als \"Extractive Question Answering\" bezeichnet, da es darum geht die Antwort aus einem vorgegebenen Textabschnitt zu extrahieren. Synonym wird auch die Bezeichnung \"Reading Comprehension\", also Leseverständnis, für diesen Aufgabentyp benutzt. \n",
    "\n",
    "__Beachte:__ Die Transformers __question-answering Pipeline__ gibt die entsprechend aus dem Kontext ausgeschnittene Antwort direkt als Zeichenkette aus."
   ]
  },
  {
   "cell_type": "code",
   "execution_count": null,
   "metadata": {},
   "outputs": [],
   "source": [
    "from transformers import pipeline\n",
    "\n",
    "nlp = pipeline(\"question-answering\")\n",
    "\n",
    "# Als \"Kontext\" wird ein Text bezeichnet, aus dem die Antwort auf eine gegebene Frage extrahiert werden soll.\n",
    "# Häufig ist die Aufgabe, die Antwort auf eine Frage direkt aus diesem Kontext herauszuschneiden\n",
    "# bzw. mit \"Textmarker\" anzustreichen. Damit ist gemeint, die Position der Antwort innerhalb\n",
    "# des Kontextes auszugeben.\n",
    "\n",
    "# Experimentieren sie mit Unterschiedlichen Textabschnitten und dazu (mehr oder weniger gut)\n",
    "# passenden Fragen.\n",
    "context = \"\"\"Extractive Question Answering is the task of extracting an answer from a text given a question. \n",
    "An example of a question answering dataset is the SQuAD dataset, which is entirely based on that task. \n",
    "If you would like to fine-tune a model on a SQuAD task, you may leverage the \n",
    "examples/question-answering/run_squad.py script from the Huggingface transformer repository.\n",
    "\"\"\"\n",
    "\n",
    "frage1 = \"What is extractive question answering?\"\n",
    "frage2 = \"What is a good example of a question answering dataset?\"\n",
    "\n",
    "# Frage 1 anhand des gegebenen Kontexts beantworten\n",
    "output_frage1 = nlp(question=frage1, context=context)\n",
    "\n",
    "# Antwort auf Frage 1 ausgeben\n",
    "print('Frage: ' + frage1)\n",
    "print('Antwort: ' + output_frage1['answer'])\n",
    "print('Gefunden im Kontext von Position %d bis Position %d!' % (output_frage1['start'], output_frage1['end']))\n",
    "print('Score: %f' % output_frage1['score'])\n",
    "print()\n",
    "\n",
    "# Frage 2 anhand des gegebenen Kontexts beantworten\n",
    "output_frage2 = nlp(question=frage2, context=context)\n",
    "\n",
    "# Antwort auf Frage 2 ausgeben\n",
    "print('Frage: ' + frage2)\n",
    "print('Antwort: ' + output_frage2['answer'])\n",
    "print('Gefunden im Kontext von Position %d bis Position %d!' % (output_frage2['start'], output_frage2['end']))\n",
    "print('Score: %f' % output_frage2['score'])\n",
    "print()"
   ]
  },
  {
   "cell_type": "markdown",
   "metadata": {},
   "source": [
    "## Conversation\n",
    "\n",
    "Eventuell haben sie die __conversation__-Pipeline schon im Rahmen der Chatbot-Notebooks kennen gelernt. Sie bietet eine recht komfortable Möglichkeit, ein auf zahlreichen Reddit-Konversationen vortrainiertes Sprachmodell mit wenigen Zeilen Code z.B. in eine eigene Chatbot-Logik einzubinden. Die Pipeline erlaubt es, mit einer Startnachricht (__conversation_start__) eine Konversation mit dem trainierten Transformermodell zu initialisieren und die entsprechende Antwort des Modells (bzw. die gesamte Konversation) auszugeben."
   ]
  },
  {
   "cell_type": "code",
   "execution_count": null,
   "metadata": {},
   "outputs": [],
   "source": [
    "from transformers import pipeline, Conversation\n",
    "\n",
    "conversational_pipeline = pipeline(\"conversational\")\n",
    "\n",
    "# Initialer Userinput\n",
    "conversation_start = \"Let's watch a movie tonight - any recommendations?\"\n",
    "\n",
    "# Initialisiere Konversation mit der Zeichenkette in\n",
    "# conversation_start (erster Satz der Nutzer*in)\n",
    "conversation = Conversation(conversation_start)\n",
    "\n",
    "# Erzeuge Antwort des Sprachmodells und hänge die Antwort an die\n",
    "# bisherige Konversation an\n",
    "conversation = conversational_pipeline(conversation)\n",
    "\n",
    "# Gib kompletten bisherigen Verlauf der Konversation aus\n",
    "print(conversation)"
   ]
  },
  {
   "cell_type": "markdown",
   "metadata": {},
   "source": [
    "In der folgenden Zelle, fügen wir der Konversation den nächsten Userinput hinzu und lassen das Modell wieder darauf antworten."
   ]
  },
  {
   "cell_type": "code",
   "execution_count": null,
   "metadata": {},
   "outputs": [],
   "source": [
    "# Antwort der Nutzer*in auf die bisherige Konversation\n",
    "conversation_next = \"What is it about?\"\n",
    "\n",
    "# Fügt Nutzer*innenantwort der Konversation hinzu\n",
    "conversation.add_user_input(conversation_next)\n",
    "\n",
    "# Erzeugt Antwort des Sprachmodells und fügt diese \n",
    "# der laufenden Konversation hinzu\n",
    "conversation = conversational_pipeline(conversation)\n",
    "\n",
    "# Gibt bisherigen Konversationsverlauf aus\n",
    "print(conversation)"
   ]
  },
  {
   "cell_type": "markdown",
   "metadata": {},
   "source": [
    "In dem sie die Zeichenkette der obigen Zelle verändern und die Zelle immer wieder ausführen, können sie die Unterhaltung mit dem trainierten Sprachmodell fortsetzen. __Achten__ sie darauf, ob und wann die Konversation eventuell in eine Sackgasse läuft und wie sie das (nach __Neustarten der Konversation mittels der ersten Conversation-Codezelle__) eventuell verhindern lässt."
   ]
  },
  {
   "cell_type": "markdown",
   "metadata": {},
   "source": [
    "# Wie geht es jetzt weiter?\n",
    "\n",
    "Wie sie hoffentlich selbst erfahren konnten, sind die Huggingface __pipelines__ so gut verpackt, dass man relativ einfach schon recht beeindruckende Ergebnisse erzielen kann, ohne sich überhaupt große Gedanken über die zu Grunde liegenden Sprachmodelle machen zu müssen. Dies bedeutet jedoch auch, dass man als Anwenderin praktisch keine Kontrolle über die genauen Vor- und Nachverarbeitungsschritte der Inputs und Outputs, sowie über die genutzten Sprachmodelle hat. Aus diesem Grund werden wir uns im nächsten Notebook damit beschäftigen, wie man eine konkrete Aufgabe (deutsche Fragen anhand vorgegebener, deutscher Texte beantworten) mit Hilfe einer selbst gebauten Pipeline und vortrainierten Transformermodellen lösen kann. Falls sie damit weitermachen möchten, geht es im Notebook *02_Question_Answering_with_BERT.ipynb* weiter."
   ]
  },
  {
   "cell_type": "code",
   "execution_count": null,
   "metadata": {},
   "outputs": [],
   "source": []
  }
 ],
 "metadata": {
  "kernelspec": {
   "display_name": "Python 3 (ipykernel)",
   "language": "python",
   "name": "python3"
  },
  "language_info": {
   "codemirror_mode": {
    "name": "ipython",
    "version": 3
   },
   "file_extension": ".py",
   "mimetype": "text/x-python",
   "name": "python",
   "nbconvert_exporter": "python",
   "pygments_lexer": "ipython3",
   "version": "3.8.12"
  }
 },
 "nbformat": 4,
 "nbformat_minor": 4
}
